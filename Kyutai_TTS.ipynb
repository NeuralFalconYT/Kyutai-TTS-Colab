{
  "nbformat": 4,
  "nbformat_minor": 0,
  "metadata": {
    "colab": {
      "provenance": [],
      "gpuType": "T4"
    },
    "kernelspec": {
      "name": "python3",
      "display_name": "Python 3"
    },
    "language_info": {
      "name": "python"
    },
    "accelerator": "GPU"
  },
  "cells": [
    {
      "cell_type": "markdown",
      "source": [
        "This Colab notebook uses the official code from the [Kyutai Delayed Streams Modeling repository](https://github.com/kyutai-labs/delayed-streams-modeling)\n",
        "\n",
        "It is **not optimized for real-time or production use**. This Gradio demo is just for testing Kyutai TTS.\n",
        "\n",
        "For faster results and real-time streaming, check out the official GitHub page."
      ],
      "metadata": {
        "id": "8dj7socKU2zk"
      }
    },
    {
      "cell_type": "code",
      "execution_count": null,
      "metadata": {
        "id": "z7hr889ORwWc",
        "cellView": "form"
      },
      "outputs": [],
      "source": [
        "#@title Install Kyutai TTS\n",
        "%cd /content/\n",
        "!git clone https://github.com/NeuralFalconYT/Kyutai-TTS-Colab.git\n",
        "%cd /content/Kyutai-TTS-Colab\n",
        "!git clone https://huggingface.co/kyutai/tts-voices\n",
        "\n",
        "!pip install 'sphn<0.2'\n",
        "!pip install --no-deps \"moshi==0.2.7\"\n",
        "!pip install gradio>=5.35.0\n",
        "\n",
        "#For local install\n",
        "\n",
        "# !pip install 'sphn<0.2'\n",
        "# !pip install \"moshi==0.2.7\"\n",
        "# !pip install soundfile\n",
        "# !pip install pydub>=0.25.1\n",
        "# !pip install librosa>=0.11.0\n",
        "# !pip install huggingface-hub>=0.33.1\n",
        "# !pip install click>=8.2.1\n",
        "# !pip install gradio>=5.35.0\n",
        "\n",
        "# Optional: FFmpeg is used for changing audio speed.\n",
        "# If FFmpeg is not available, Librosa will be used as a fallback.\n",
        "\n",
        "# !sudo apt update\n",
        "# !sudo apt install ffmpeg\n",
        "\n",
        "# For windows https://ffmpeg.org/download.html\n",
        "from IPython.display import clear_output\n",
        "clear_output()\n"
      ]
    },
    {
      "cell_type": "code",
      "source": [
        "%cd /content/Kyutai-TTS-Colab\n",
        "!python app.py --share"
      ],
      "metadata": {
        "id": "LpyeHltESh8y"
      },
      "execution_count": null,
      "outputs": []
    }
  ]
}